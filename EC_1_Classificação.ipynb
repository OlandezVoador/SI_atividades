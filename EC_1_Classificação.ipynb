{
  "cells": [
    {
      "cell_type": "markdown",
      "metadata": {
        "id": "view-in-github",
        "colab_type": "text"
      },
      "source": [
        "<a href=\"https://colab.research.google.com/github/OlandezVoador/SI_atividades/blob/gold/EC_1_Classifica%C3%A7%C3%A3o.ipynb\" target=\"_parent\"><img src=\"https://colab.research.google.com/assets/colab-badge.svg\" alt=\"Open In Colab\"/></a>"
      ]
    },
    {
      "cell_type": "markdown",
      "metadata": {
        "id": "QKCZFHS9Isr-"
      },
      "source": [
        "# Sistemas Inteligentes\n",
        "\n",
        "## Exercício Computacional 1 - Classificação\n",
        "\n",
        "Neste laboratório serão explorados os classificadores **KNN** e **Decision Tree**. Também vamos explorar a métrica de **Acurácia** e conhecer a **Confusion Matrix**."
      ]
    },
    {
      "cell_type": "markdown",
      "metadata": {
        "id": "GQTF2MYIIssO"
      },
      "source": [
        "### Identificação do Aluno"
      ]
    },
    {
      "cell_type": "markdown",
      "metadata": {
        "id": "Al5EyuM1IssQ"
      },
      "source": [
        "#### Nome Completo"
      ]
    },
    {
      "cell_type": "markdown",
      "metadata": {
        "id": "M3eqwOtwIssS"
      },
      "source": [
        "Felipe Banes Lopes Ferreira"
      ]
    },
    {
      "cell_type": "markdown",
      "metadata": {
        "id": "4dFjX5qWIssU"
      },
      "source": [
        "#### RA"
      ]
    },
    {
      "cell_type": "markdown",
      "metadata": {
        "id": "fppuVae0IssV"
      },
      "source": [
        "21076215"
      ]
    },
    {
      "cell_type": "markdown",
      "metadata": {
        "id": "7eX26ZbaIssX"
      },
      "source": [
        "### Importação e preparação dos dados"
      ]
    },
    {
      "cell_type": "markdown",
      "metadata": {
        "id": "ctxdIAh4IssZ"
      },
      "source": [
        "Importe o pacote **datasets** da biblioteca **sklearn**, então carregue o dataset de imagens de dígitos, utilizando a função **load_digits()** do pacote de datasets importado, já atribuindo-o à variável **digits_dataset**."
      ]
    },
    {
      "cell_type": "code",
      "execution_count": 2,
      "metadata": {
        "id": "XV4j1GVCIssc"
      },
      "outputs": [],
      "source": [
        "from sklearn.datasets import fetch_lfw_people\n",
        "from sklearn.datasets import load_digits\n",
        "digits_dataset = load_digits()"
      ]
    },
    {
      "cell_type": "markdown",
      "metadata": {
        "id": "yTtJi6b7Issj"
      },
      "source": [
        "Tendo feito o processo adequadamente, a variável **digits_dataset** conterá todo o dataset correspondente, inclusive com informações que não são de nosso interesse para esta atividade. Para selecionar apenas o que é de nosso interesse, atribua à variável **digits_img** apenas o objeto **images** de **digits_dataset**."
      ]
    },
    {
      "cell_type": "code",
      "execution_count": 42,
      "metadata": {
        "id": "Tt2QUjKlIssm"
      },
      "outputs": [],
      "source": [
        "digits_img = digits_dataset.images"
      ]
    },
    {
      "cell_type": "markdown",
      "metadata": {
        "id": "aXXM4a6FIsso"
      },
      "source": [
        "Verifique o formato de **digits_img**."
      ]
    },
    {
      "cell_type": "code",
      "execution_count": 41,
      "metadata": {
        "colab": {
          "base_uri": "https://localhost:8080/"
        },
        "id": "2X9j3iR0Issp",
        "outputId": "80f676c7-88ca-429e-c5c4-96413b7eeeab"
      },
      "outputs": [
        {
          "output_type": "execute_result",
          "data": {
            "text/plain": [
              "numpy.ndarray"
            ]
          },
          "metadata": {},
          "execution_count": 41
        }
      ],
      "source": [
        "type(digits_img)"
      ]
    },
    {
      "cell_type": "markdown",
      "metadata": {
        "id": "mtO98rV2Issr"
      },
      "source": [
        "Imprima **digits_img** para que seja possível ver como são os dados que temos no momento."
      ]
    },
    {
      "cell_type": "code",
      "execution_count": 6,
      "metadata": {
        "colab": {
          "base_uri": "https://localhost:8080/"
        },
        "id": "3wum7ISyIsst",
        "outputId": "77550801-d13d-4b1d-e2ae-1cf2fb40cc7d"
      },
      "outputs": [
        {
          "output_type": "stream",
          "name": "stdout",
          "text": [
            "[[[ 0.  0.  5. ...  1.  0.  0.]\n",
            "  [ 0.  0. 13. ... 15.  5.  0.]\n",
            "  [ 0.  3. 15. ... 11.  8.  0.]\n",
            "  ...\n",
            "  [ 0.  4. 11. ... 12.  7.  0.]\n",
            "  [ 0.  2. 14. ... 12.  0.  0.]\n",
            "  [ 0.  0.  6. ...  0.  0.  0.]]\n",
            "\n",
            " [[ 0.  0.  0. ...  5.  0.  0.]\n",
            "  [ 0.  0.  0. ...  9.  0.  0.]\n",
            "  [ 0.  0.  3. ...  6.  0.  0.]\n",
            "  ...\n",
            "  [ 0.  0.  1. ...  6.  0.  0.]\n",
            "  [ 0.  0.  1. ...  6.  0.  0.]\n",
            "  [ 0.  0.  0. ... 10.  0.  0.]]\n",
            "\n",
            " [[ 0.  0.  0. ... 12.  0.  0.]\n",
            "  [ 0.  0.  3. ... 14.  0.  0.]\n",
            "  [ 0.  0.  8. ... 16.  0.  0.]\n",
            "  ...\n",
            "  [ 0.  9. 16. ...  0.  0.  0.]\n",
            "  [ 0.  3. 13. ... 11.  5.  0.]\n",
            "  [ 0.  0.  0. ... 16.  9.  0.]]\n",
            "\n",
            " ...\n",
            "\n",
            " [[ 0.  0.  1. ...  1.  0.  0.]\n",
            "  [ 0.  0. 13. ...  2.  1.  0.]\n",
            "  [ 0.  0. 16. ... 16.  5.  0.]\n",
            "  ...\n",
            "  [ 0.  0. 16. ... 15.  0.  0.]\n",
            "  [ 0.  0. 15. ... 16.  0.  0.]\n",
            "  [ 0.  0.  2. ...  6.  0.  0.]]\n",
            "\n",
            " [[ 0.  0.  2. ...  0.  0.  0.]\n",
            "  [ 0.  0. 14. ... 15.  1.  0.]\n",
            "  [ 0.  4. 16. ... 16.  7.  0.]\n",
            "  ...\n",
            "  [ 0.  0.  0. ... 16.  2.  0.]\n",
            "  [ 0.  0.  4. ... 16.  2.  0.]\n",
            "  [ 0.  0.  5. ... 12.  0.  0.]]\n",
            "\n",
            " [[ 0.  0. 10. ...  1.  0.  0.]\n",
            "  [ 0.  2. 16. ...  1.  0.  0.]\n",
            "  [ 0.  0. 15. ... 15.  0.  0.]\n",
            "  ...\n",
            "  [ 0.  4. 16. ... 16.  6.  0.]\n",
            "  [ 0.  8. 16. ... 16.  8.  0.]\n",
            "  [ 0.  1.  8. ... 12.  1.  0.]]]\n"
          ]
        }
      ],
      "source": [
        "print(digits_img)"
      ]
    },
    {
      "cell_type": "markdown",
      "metadata": {
        "id": "S9KVBEDqIssv"
      },
      "source": [
        "Sabendo que esta estrutura se refere a um conjunto de imagens, pode ser interessante imprimir ao menos uma ou duas para visualizarmos como é o seu padrão.\n",
        "\n",
        "Para fazer isso, importe o pacote de funções **pyplot** da biblioteca **matplotlib**. Apesar de não ser obrigatório, para facilitar, recomenda-se utilizar um \"apelido\" para esse tipo de pacote com nome tão grande, a fim de tornar o seu uso mais prático. É comum utilizar o termo \"plt\" para o pyplot, mas você pode chamar como preferir."
      ]
    },
    {
      "cell_type": "code",
      "execution_count": 7,
      "metadata": {
        "id": "KHxfPLALIssw"
      },
      "outputs": [],
      "source": [
        "import matplotlib.pyplot as plt"
      ]
    },
    {
      "cell_type": "markdown",
      "metadata": {
        "id": "Wbh11r5YIssx"
      },
      "source": [
        "Depois de importar o pacote, utilize a função **imshow()** do **pyplot** para imprimir na tela uma das imagens contidas em **digits_img**.\n",
        "\n",
        "Obs: caso tenha sido utilizado um apelido na importação do pacote, lembre-se dele quando for chamar suas funções, como é o caso agora."
      ]
    },
    {
      "cell_type": "code",
      "execution_count": 8,
      "metadata": {
        "colab": {
          "base_uri": "https://localhost:8080/",
          "height": 355
        },
        "id": "ABPQqpjUIssz",
        "outputId": "3d083588-03cb-4107-aa4e-30069d7c1923"
      },
      "outputs": [
        {
          "output_type": "execute_result",
          "data": {
            "text/plain": [
              "<matplotlib.image.AxesImage at 0x7e3f5dc89030>"
            ]
          },
          "metadata": {},
          "execution_count": 8
        },
        {
          "output_type": "display_data",
          "data": {
            "text/plain": [
              "<Figure size 640x480 with 1 Axes>"
            ],
            "image/png": "[encoded data removed]"
          },
          "metadata": {}
        }
      ],
      "source": [
        "plt.imshow(digits_img[15])"
      ]
    },
    {
      "cell_type": "code",
      "execution_count": 9,
      "metadata": {
        "id": "2SI1ebWtIss1"
      },
      "outputs": [],
      "source": [
        "import numpy as np"
      ]
    },
    {
      "cell_type": "markdown",
      "metadata": {
        "id": "mjZAbq1NIss0"
      },
      "source": [
        "Apesar de esse tipo de formato permitir que essas imagens sejam elegantemente exibidas a nós, humanos, não se trata de um formato tão interessante para se efetuar processamentos computacionais. Por isso, faça uma mudança no formato da estrutura utilizando a função **reshape()** da biblioteca **numpy**. Como tal biblioteca ainda não for importada, comece por sua importação, preferencialmente utilizando o apelido \"np\" para tornar mais prática a sua utilização."
      ]
    },
    {
      "cell_type": "code",
      "execution_count": 55,
      "metadata": {
        "id": "gKv6yUnRIss6"
      },
      "outputs": [],
      "source": [
        "digits_img=digits_img.reshape(digits_img.shape[0], - 1)"
      ]
    },
    {
      "cell_type": "markdown",
      "metadata": {
        "id": "W1rbA35-Iss7"
      },
      "source": [
        "Agora verifique se o novo formato está como desejava-se obter. Se o novo formato for bidimensional, o número de imagens for o mesmo que o original e o número de pixels for o mesmo que o original, então está correto."
      ]
    },
    {
      "cell_type": "code",
      "source": [
        "digits_img.shape"
      ],
      "metadata": {
        "colab": {
          "base_uri": "https://localhost:8080/"
        },
        "id": "FpX3m9h1wZLW",
        "outputId": "37772696-f63d-47bc-91a1-27a997c6dd33"
      },
      "execution_count": 56,
      "outputs": [
        {
          "output_type": "execute_result",
          "data": {
            "text/plain": [
              "(1797, 64)"
            ]
          },
          "metadata": {},
          "execution_count": 56
        }
      ]
    },
    {
      "cell_type": "markdown",
      "metadata": {
        "id": "PQKOaJ_cIss8"
      },
      "source": [
        "Agora que já temos os dados de entrada adequadamente preparados, precisamos dos dados de saída correspondentes. Então, atribua o objeto **target** de **digits_dataset** à variável **digits_target**."
      ]
    },
    {
      "cell_type": "code",
      "execution_count": 57,
      "metadata": {
        "id": "yPqI2pcBIss9"
      },
      "outputs": [],
      "source": [
        "digits_target = digits_dataset.target"
      ]
    },
    {
      "cell_type": "markdown",
      "metadata": {
        "id": "HBYa8D5LIss-"
      },
      "source": [
        "Imprima **digits_target** para visualizar como são esses dados"
      ]
    },
    {
      "cell_type": "code",
      "execution_count": 58,
      "metadata": {
        "colab": {
          "base_uri": "https://localhost:8080/"
        },
        "id": "gAO0bKpGIss-",
        "outputId": "6583d2a1-fe48-4b09-d1a5-07fd41c5949c"
      },
      "outputs": [
        {
          "output_type": "stream",
          "name": "stdout",
          "text": [
            "[0 1 2 ... 8 9 8]\n"
          ]
        }
      ],
      "source": [
        "print(digits_target)"
      ]
    },
    {
      "cell_type": "markdown",
      "metadata": {
        "id": "hcXRfV8NIss_"
      },
      "source": [
        "Agora imprima o formato de **digits_target** para saber exatamente as suas dimensões."
      ]
    },
    {
      "cell_type": "code",
      "execution_count": 59,
      "metadata": {
        "colab": {
          "base_uri": "https://localhost:8080/"
        },
        "id": "0DrKSWiEIss_",
        "outputId": "215dc0c7-d1ef-4a43-b493-41eae7a3b68e"
      },
      "outputs": [
        {
          "output_type": "execute_result",
          "data": {
            "text/plain": [
              "(1797,)"
            ]
          },
          "metadata": {},
          "execution_count": 59
        }
      ],
      "source": [
        "digits_target.shape"
      ]
    },
    {
      "cell_type": "markdown",
      "metadata": {
        "id": "KyUDZJVoIstA"
      },
      "source": [
        "#### Divisão dos dados em grupos para treinamento e teste."
      ]
    },
    {
      "cell_type": "markdown",
      "metadata": {
        "id": "I-NZMqxyIstA"
      },
      "source": [
        "Importe a função **train_test_split()** do pacote **model_selection**, pertencente à biblioteca **sklearn**."
      ]
    },
    {
      "cell_type": "code",
      "execution_count": 60,
      "metadata": {
        "id": "3qRMZzOQIstB"
      },
      "outputs": [],
      "source": [
        "from sklearn.model_selection import train_test_split as teste"
      ]
    },
    {
      "cell_type": "markdown",
      "metadata": {
        "id": "ZP1fmln9IstB"
      },
      "source": [
        "Agora, utilizando a função **train_test_split()**, divida os dados de entrada e saída, **digits** e **digits_target**, respectivamente, separando-os em dados de treinamento e de testes para entrada e saída, ou seja, **x_train**, **x_test**, **y_train** e **y_test**.\n",
        "\n",
        "Separe 25% para testes utilizando o argumento *test_size* da própria função **train_test_split()**."
      ]
    },
    {
      "cell_type": "code",
      "execution_count": 61,
      "metadata": {
        "id": "6SoiXGcJIstC"
      },
      "outputs": [],
      "source": [
        "x_train, x_test, y_train, y_test = teste(digits_img, digits_target, test_size=0.25)"
      ]
    },
    {
      "cell_type": "markdown",
      "metadata": {
        "id": "IYFGExlIIstC"
      },
      "source": [
        "Imprima, em diferentes células, o formato de cada uma das partes obtidas."
      ]
    },
    {
      "cell_type": "code",
      "execution_count": 62,
      "metadata": {
        "colab": {
          "base_uri": "https://localhost:8080/"
        },
        "id": "HS5-TrVmIstD",
        "outputId": "3d8ff955-2c36-4da7-98bf-07c0fe3d741c"
      },
      "outputs": [
        {
          "output_type": "stream",
          "name": "stdout",
          "text": [
            "[[ 0.  0. 11. ... 13. 16.  7.]\n",
            " [ 0.  0.  4. ...  9.  0.  0.]\n",
            " [ 0.  0.  0. ...  0.  0.  0.]\n",
            " ...\n",
            " [ 0.  0.  5. ... 11.  1.  0.]\n",
            " [ 0.  0.  0. ...  0.  0.  0.]\n",
            " [ 0.  0.  0. ...  0.  0.  0.]]\n"
          ]
        }
      ],
      "source": [
        "print(x_train)"
      ]
    },
    {
      "cell_type": "code",
      "execution_count": 63,
      "metadata": {
        "id": "JWriGlOfIstE",
        "colab": {
          "base_uri": "https://localhost:8080/"
        },
        "outputId": "5459fcc8-b301-493d-8266-6ef5e21a6f2a"
      },
      "outputs": [
        {
          "output_type": "stream",
          "name": "stdout",
          "text": [
            "[2 9 9 ... 9 4 4]\n"
          ]
        }
      ],
      "source": [
        "print(y_train)"
      ]
    },
    {
      "cell_type": "code",
      "execution_count": 64,
      "metadata": {
        "id": "U7PI31VdIstl",
        "colab": {
          "base_uri": "https://localhost:8080/"
        },
        "outputId": "c0d4cb2e-7f40-4d3a-fea2-7d3ad50f7a20"
      },
      "outputs": [
        {
          "output_type": "stream",
          "name": "stdout",
          "text": [
            "[[ 0.  0.  4. ...  5.  0.  0.]\n",
            " [ 0.  0.  3. ... 15.  7.  0.]\n",
            " [ 0.  2. 14. ...  2.  0.  0.]\n",
            " ...\n",
            " [ 0.  0.  5. ... 16.  2.  0.]\n",
            " [ 0.  4. 15. ... 16.  9.  0.]\n",
            " [ 0.  0.  8. ...  0.  0.  0.]]\n"
          ]
        }
      ],
      "source": [
        "print(x_test)"
      ]
    },
    {
      "cell_type": "code",
      "execution_count": 65,
      "metadata": {
        "id": "YtAsIrBEIstm",
        "colab": {
          "base_uri": "https://localhost:8080/"
        },
        "outputId": "af4dd231-5f7f-41f3-ca8a-6b4b0db95a4a"
      },
      "outputs": [
        {
          "output_type": "stream",
          "name": "stdout",
          "text": [
            "[8 6 3 5 6 7 1 7 8 9 0 5 4 7 4 0 8 7 2 6 7 6 3 7 4 6 1 0 0 3 0 0 0 9 1 8 5\n",
            " 2 5 3 7 4 4 6 5 4 2 1 1 5 5 2 3 6 2 7 9 7 1 4 3 0 1 9 4 0 3 9 3 2 6 8 7 0\n",
            " 7 5 3 1 2 9 9 1 0 7 5 8 0 7 6 5 9 1 3 1 6 6 6 1 1 1 0 1 9 9 1 1 5 0 5 7 9\n",
            " 0 2 5 4 9 8 3 4 5 3 7 8 0 2 7 9 8 0 4 8 0 6 9 0 5 7 1 0 2 7 3 2 4 7 6 5 2\n",
            " 9 6 4 8 9 6 2 7 7 4 8 4 8 2 1 9 7 8 3 8 6 4 7 1 5 1 8 2 1 3 6 2 3 5 8 2 2\n",
            " 7 8 7 1 4 8 6 2 0 3 4 1 5 8 6 6 0 0 4 7 6 4 2 3 4 0 6 4 8 9 7 6 3 0 0 2 8\n",
            " 4 8 7 4 4 9 4 6 9 9 8 0 4 6 4 5 7 7 3 7 4 1 2 2 4 9 8 7 7 0 1 0 4 2 4 8 0\n",
            " 5 7 9 8 9 8 2 2 7 0 1 6 1 0 5 4 9 2 5 6 9 9 3 3 5 2 4 6 6 5 1 7 3 5 4 2 3\n",
            " 8 9 5 6 4 6 7 0 9 4 6 1 4 9 8 8 9 4 7 6 8 1 8 8 0 7 3 5 2 9 0 6 2 5 9 7 6\n",
            " 8 8 2 6 7 8 3 3 0 9 5 7 2 0 5 9 4 9 1 1 1 9 3 3 1 3 7 1 9 1 3 1 4 1 2 3 4\n",
            " 5 7 3 1 3 0 3 4 6 4 3 0 3 3 7 6 9 6 7 3 6 9 4 4 8 4 9 5 9 2 3 6 0 4 4 8 3\n",
            " 7 7 3 4 9 4 0 8 3 8 7 2 1 1 4 5 0 3 5 9 5 9 3 4 2 5 6 9 5 3 3 7 5 0 1 6 6\n",
            " 1 8 1 9 2 7]\n"
          ]
        }
      ],
      "source": [
        "print(y_test)"
      ]
    },
    {
      "cell_type": "markdown",
      "metadata": {
        "id": "EG915LL9Isto"
      },
      "source": [
        "### K-Nearest Neighbors (KNN)"
      ]
    },
    {
      "cell_type": "markdown",
      "metadata": {
        "id": "hkMDDBhaIstp"
      },
      "source": [
        "#### Treinamento"
      ]
    },
    {
      "cell_type": "markdown",
      "metadata": {
        "id": "at3Nk7rSIstq"
      },
      "source": [
        "Importe o classificador do KNN, que é uma função chamada **KNeighborsClassifier** do pacote **neighbors**, que faz parte da biblioteca **sklearn**."
      ]
    },
    {
      "cell_type": "code",
      "execution_count": 66,
      "metadata": {
        "id": "rbG9wqseIstq"
      },
      "outputs": [],
      "source": [
        "from sklearn.neighbors import KNeighborsClassifier as classificador"
      ]
    },
    {
      "cell_type": "markdown",
      "metadata": {
        "id": "1-kxfJkOIsts"
      },
      "source": [
        "Agora crie o classificador com o nome **knn** utilizando para o argumento *n_neighbors* da função **KNeighborsClassifier** o número de vizinhos próximos que serão considerados pelo algoritmo. Lembre-se de preferir um número ímpar não muito grande."
      ]
    },
    {
      "cell_type": "code",
      "execution_count": 67,
      "metadata": {
        "id": "dxiUuIqWIstt"
      },
      "outputs": [],
      "source": [
        "# Vizinhos próximos a serem considerados\n",
        "knn = classificador(n_neighbors=5)"
      ]
    },
    {
      "cell_type": "markdown",
      "metadata": {
        "id": "_BvWUh9SIstu"
      },
      "source": [
        "Treine o classificador **knn** por meio de sua própria função **fit()**, atribuindo o resultado ao próprio **knn**. Os argumentos da função **fit()** são os dados de entrada e saída de treinamento, ou seja, **x_train** e **y_train**."
      ]
    },
    {
      "cell_type": "code",
      "execution_count": 70,
      "metadata": {
        "id": "MYqOz42qIstv",
        "colab": {
          "base_uri": "https://localhost:8080/"
        },
        "outputId": "119d625a-f362-461e-8a11-29e391432efb"
      },
      "outputs": [
        {
          "output_type": "execute_result",
          "data": {
            "text/plain": [
              "sklearn.neighbors._classification.KNeighborsClassifier"
            ]
          },
          "metadata": {},
          "execution_count": 70
        }
      ],
      "source": [
        "# TREINAMENTO DO MODELO\n",
        "knn = knn.fit(x_train,y_train)\n",
        "type(knn)"
      ]
    },
    {
      "cell_type": "markdown",
      "metadata": {
        "id": "RiAYfTEQIstw"
      },
      "source": [
        "#### Classificação"
      ]
    },
    {
      "cell_type": "markdown",
      "metadata": {
        "id": "Wr1b1ZvcIstx"
      },
      "source": [
        "Então, faça a classificação (também chamada de predição), utilizando a função **predict()** do próprio classificador **knn**. O argumento da função é apenas a entrada de teste, ou seja, **x_test**. Atribua a saída dessa classificação à variável **y_pred**."
      ]
    },
    {
      "cell_type": "code",
      "execution_count": 75,
      "metadata": {
        "id": "ce04zti7Istx",
        "colab": {
          "base_uri": "https://localhost:8080/"
        },
        "outputId": "693a3e91-3dad-4b16-a6c2-da07b270a683"
      },
      "outputs": [
        {
          "output_type": "execute_result",
          "data": {
            "text/plain": [
              "numpy.ndarray"
            ]
          },
          "metadata": {},
          "execution_count": 75
        }
      ],
      "source": [
        "# ALGORITMO DE PREDIÇÃO DO MODELO TREINADO\n",
        "y_pred = knn.predict(x_test)"
      ]
    },
    {
      "cell_type": "markdown",
      "metadata": {
        "id": "5L1dInObIsty"
      },
      "source": [
        "#### Resultados"
      ]
    },
    {
      "cell_type": "markdown",
      "metadata": {
        "id": "lL-NTRhUIstz"
      },
      "source": [
        "Para analisar os resultados, precisamos utilizar algumas ferramentas e métricas. A biblioteca **sklearn** possui um grande conjunto de funções para essa finalidade em seu pacote **metrics**. Importe as funções **accuracy_score** e **confusion_matrix**."
      ]
    },
    {
      "cell_type": "code",
      "execution_count": 77,
      "metadata": {
        "id": "9X5WFU3RIst0"
      },
      "outputs": [],
      "source": [
        "# Acurácia do classificador\n",
        "from sklearn.metrics import accuracy_score\n",
        "\n",
        "# Matriz de confusão\n",
        "from sklearn.metrics import confusion_matrix"
      ]
    },
    {
      "cell_type": "markdown",
      "metadata": {
        "id": "xspbZOJlIst1"
      },
      "source": [
        "Comece utilizando a função **accuracy_score** para calcular a acurácia do classificador. Esta é uma das mais comuns métricas para se verificar o desempenho do classificador. O primeiro argumento da função é o conjunto de saídas esperadas, ou seja, **y_test**; o segundo, o conjunto de saídas obtidas pela predição do classificador utilizado, ou seja, **y_pred**."
      ]
    },
    {
      "cell_type": "code",
      "execution_count": 81,
      "metadata": {
        "id": "4JYWRoZ3Ist2",
        "colab": {
          "base_uri": "https://localhost:8080/"
        },
        "outputId": "c0273563-646a-442d-aa43-7e95e893a734"
      },
      "outputs": [
        {
          "output_type": "stream",
          "name": "stdout",
          "text": [
            "0.9822222222222222\n"
          ]
        }
      ],
      "source": [
        "precisao = accuracy_score(y_test,y_pred)\n",
        "print(precisao)"
      ]
    },
    {
      "cell_type": "markdown",
      "metadata": {
        "id": "lNWir5oaIst3"
      },
      "source": [
        "Gere a matriz de confusão utilizando a função **confusion_matrix**."
      ]
    },
    {
      "cell_type": "code",
      "execution_count": 82,
      "metadata": {
        "id": "7SaNbE-GIst3",
        "colab": {
          "base_uri": "https://localhost:8080/"
        },
        "outputId": "7eb7851e-8fc3-4643-a91f-51fc91e41351"
      },
      "outputs": [
        {
          "output_type": "stream",
          "name": "stdout",
          "text": [
            "[[43  0  0  0  0  0  0  0  0  0]\n",
            " [ 0 45  0  0  0  0  0  0  0  0]\n",
            " [ 0  0 38  0  0  0  0  0  0  0]\n",
            " [ 0  0  0 45  0  1  0  1  0  0]\n",
            " [ 0  0  0  0 51  0  0  2  0  0]\n",
            " [ 0  0  0  0  0 39  0  0  0  0]\n",
            " [ 0  0  0  0  0  0 44  0  1  0]\n",
            " [ 0  0  0  0  0  0  0 51  0  0]\n",
            " [ 0  2  0  0  0  0  0  0 40  0]\n",
            " [ 0  1  0  0  0  0  0  0  0 46]]\n"
          ]
        }
      ],
      "source": [
        "precisao = confusion_matrix(y_test,y_pred)\n",
        "print(precisao)"
      ]
    },
    {
      "cell_type": "markdown",
      "metadata": {
        "id": "4fEA1pXhIst5"
      },
      "source": [
        "### Decision Tree"
      ]
    },
    {
      "cell_type": "markdown",
      "metadata": {
        "id": "mINWpNmRIst5"
      },
      "source": [
        "#### Treinamento"
      ]
    },
    {
      "cell_type": "markdown",
      "metadata": {
        "id": "vE7dKAXxIst7"
      },
      "source": [
        "Assim como foi feito com o KNN, crie um classificador de Decision Tree chamado **dt** utilizando agora a função **DecisionTreeClassifier**."
      ]
    },
    {
      "cell_type": "code",
      "execution_count": 85,
      "metadata": {
        "id": "LaMZ5vInIst8"
      },
      "outputs": [],
      "source": [
        "from sklearn.tree import DecisionTreeClassifier as dt"
      ]
    },
    {
      "cell_type": "markdown",
      "metadata": {
        "id": "10cuenCKIst9"
      },
      "source": [
        "Treine classificador **dt** utilizando a função **fit** com os dados de treinamento, **x_train** e **y_train**, respectivamente."
      ]
    },
    {
      "cell_type": "code",
      "execution_count": 92,
      "metadata": {
        "id": "DTdMXoSLIst9"
      },
      "outputs": [],
      "source": [
        "# TREINAMENTO DO MODELO\n",
        "tree = dt()\n",
        "tree = tree.fit(x_train,y_train)"
      ]
    },
    {
      "cell_type": "markdown",
      "metadata": {
        "id": "HToF5gEyIst-"
      },
      "source": [
        "#### Classificação"
      ]
    },
    {
      "cell_type": "markdown",
      "metadata": {
        "id": "XntWVFkZIst_"
      },
      "source": [
        "Faça a classificação dos dados de entrada para testes, **x_test**, utilizando a função **predict** do próprio **dt** e armazene os resultados em **y_pred**."
      ]
    },
    {
      "cell_type": "code",
      "execution_count": 93,
      "metadata": {
        "id": "1B7kQsgEIst_"
      },
      "outputs": [],
      "source": [
        "# ALGORITMO DE PREDIÇÃO DO MODELO TREINADO\n",
        "y_pred = tree.predict(x_test)"
      ]
    },
    {
      "cell_type": "markdown",
      "metadata": {
        "id": "pToyUlqVIsuA"
      },
      "source": [
        "#### Resultados"
      ]
    },
    {
      "cell_type": "markdown",
      "metadata": {
        "id": "4x3VWZhvIsuB"
      },
      "source": [
        "Verifique a acurácia do classificador **dt** por meio da função **accuracy_score**."
      ]
    },
    {
      "cell_type": "code",
      "execution_count": 94,
      "metadata": {
        "id": "ujn-LJbXIsuB",
        "colab": {
          "base_uri": "https://localhost:8080/"
        },
        "outputId": "263ab51d-de79-47fc-b7fc-8d9482c03d21"
      },
      "outputs": [
        {
          "output_type": "stream",
          "name": "stdout",
          "text": [
            "0.8511111111111112\n"
          ]
        }
      ],
      "source": [
        "precisao = accuracy_score(y_test,y_pred)\n",
        "print(precisao)"
      ]
    },
    {
      "cell_type": "markdown",
      "metadata": {
        "id": "y7-OQWdEIsuC"
      },
      "source": [
        "Mostre a matriz de confusão do classificador **dt** utilizando a função **confusion_matrix**."
      ]
    },
    {
      "cell_type": "code",
      "execution_count": 95,
      "metadata": {
        "id": "bTvE2ADOIsuD",
        "colab": {
          "base_uri": "https://localhost:8080/"
        },
        "outputId": "8f13df32-9b1a-4ac4-f667-9ef1624e554c"
      },
      "outputs": [
        {
          "output_type": "stream",
          "name": "stdout",
          "text": [
            "[[42  0  0  0  0  1  0  0  0  0]\n",
            " [ 0 36  1  1  2  1  1  0  2  1]\n",
            " [ 0  2 35  0  0  0  0  1  0  0]\n",
            " [ 0  1  3 35  0  2  0  1  3  2]\n",
            " [ 0  4  0  0 44  0  0  3  0  2]\n",
            " [ 0  0  0  0  1 36  0  0  0  2]\n",
            " [ 1  0  1  0  3  0 40  0  0  0]\n",
            " [ 0  3  0  0  1  0  0 47  0  0]\n",
            " [ 2  5  3  3  0  0  0  0 28  1]\n",
            " [ 0  3  0  1  0  1  0  0  2 40]]\n"
          ]
        }
      ],
      "source": [
        "precisao = confusion_matrix(y_test,y_pred)\n",
        "print(precisao)"
      ]
    },
    {
      "cell_type": "markdown",
      "metadata": {
        "id": "buj6cxsXIsuE"
      },
      "source": [
        "## Questões"
      ]
    },
    {
      "cell_type": "markdown",
      "metadata": {
        "id": "amdtxF9JIsuE"
      },
      "source": [
        "### 1. O que você entende por \"acurácia\"? Esta métrica é suficiente para avaliar o desempenho de um classificador? Se não, o que mais poderia ser utilizado? E por que?"
      ]
    },
    {
      "cell_type": "markdown",
      "metadata": {
        "id": "I5XMk4teIsuF"
      },
      "source": [
        "ESCREVA AQUI A SUA RESPOSTA"
      ]
    },
    {
      "cell_type": "markdown",
      "metadata": {
        "id": "eKU65Ek8IsuG"
      },
      "source": [
        "### 2. Que tipo de informação a matriz de confusão oferece sobre o classificador?"
      ]
    },
    {
      "cell_type": "markdown",
      "metadata": {
        "id": "6RrxQk2iIsuH"
      },
      "source": [
        "ESCREVA AQUI A SUA RESPOSTA"
      ]
    },
    {
      "cell_type": "markdown",
      "metadata": {
        "id": "eW93zUqxIsuI"
      },
      "source": [
        "### 3. O que representa cada linha dessa matriz? E cada coluna? E a diagonal principal?"
      ]
    },
    {
      "cell_type": "markdown",
      "metadata": {
        "id": "aULrEqPfIsuK"
      },
      "source": [
        "ESCREVA AQUI A SUA RESPOSTA"
      ]
    },
    {
      "cell_type": "markdown",
      "metadata": {
        "id": "HyHdcWOGIsuL"
      },
      "source": [
        "### 4. Seria possível avaliar, ainda que superficialmente, o desempenho de um classificador se utilizássemos apenas pixels em escala de cinza para representar os valores de uma matriz de confusão? Por que?"
      ]
    },
    {
      "cell_type": "markdown",
      "metadata": {
        "id": "9Du1icXMIsuM"
      },
      "source": [
        "ESCREVA AQUI A SUA RESPOSTA"
      ]
    },
    {
      "cell_type": "markdown",
      "metadata": {
        "id": "iO4BjkwHIsuM"
      },
      "source": [
        "### 5. Quais critérios você utilizaria para escolher o número de vizinhos do algoritmo KNN? Por que? E como isso pode influenciar no desempenho do algoritmo?"
      ]
    },
    {
      "cell_type": "markdown",
      "metadata": {
        "id": "wLx4b2lOIsuN"
      },
      "source": [
        "ESCREVA AQUI A SUA RESPOSTA"
      ]
    },
    {
      "cell_type": "markdown",
      "metadata": {
        "id": "HAYB1VjXIsuO"
      },
      "source": [
        "### 6. Algum dos dois classificadores explorados neste laboratório é não paramétrico? Se sim, o que o permite fazer tal afirmação?"
      ]
    },
    {
      "cell_type": "markdown",
      "metadata": {
        "id": "Hrlt5riDIsuO"
      },
      "source": [
        "ESCREVA AQUI A SUA RESPOSTA"
      ]
    },
    {
      "cell_type": "markdown",
      "metadata": {
        "id": "5G1Scu7RIsuP"
      },
      "source": [
        "### 7. Qual dos dois classificadores se saiu melhor neste laboratório? Por que? Caso fossem utilizados estes mesmos classificadores para classificar digitos de outra base de dados, o classificador com melhor desempenho ainda seria necessariamente o mesmo? Por que?"
      ]
    },
    {
      "cell_type": "markdown",
      "metadata": {
        "id": "N_80EZNYIsuP"
      },
      "source": [
        "ESCREVA AQUI A SUA RESPOSTA"
      ]
    },
    {
      "cell_type": "markdown",
      "metadata": {
        "id": "vX8wo08GIsuQ"
      },
      "source": [
        "## Referências"
      ]
    },
    {
      "cell_type": "markdown",
      "metadata": {
        "id": "IL08lW_tIsuR"
      },
      "source": [
        "[Scikit-Learn - Datasets](http://scikit-learn.org/stable/datasets/index.html)\n",
        "\n",
        "[Matplotlib - Pyplot](https://matplotlib.org/api/pyplot_summary.html)\n",
        "\n",
        "[Numpy](https://docs.scipy.org/doc/numpy/reference/)\n",
        "\n",
        "[Scikit-Learn - Train, Test and Split](http://scikit-learn.org/stable/modules/generated/sklearn.model_selection.train_test_split.html)\n",
        "\n",
        "[Scikit-Learn - KNeighborsClassifier](http://scikit-learn.org/stable/modules/generated/sklearn.neighbors.KNeighborsClassifier.html)\n",
        "\n",
        "[Scikit-Learn - DecisionTreeClassifier](http://scikit-learn.org/stable/modules/generated/sklearn.tree.DecisionTreeClassifier.html)\n",
        "\n",
        "[Scikit-Learn - Accuracy Score](http://scikit-learn.org/stable/modules/generated/sklearn.metrics.accuracy_score.html)\n",
        "\n",
        "[Scikit-Learn - Confusion Matrix](http://scikit-learn.org/stable/modules/generated/sklearn.metrics.confusion_matrix.html)"
      ]
    }
  ],
  "metadata": {
    "kernelspec": {
      "display_name": "Python 3",
      "language": "python",
      "name": "python3"
    },
    "language_info": {
      "codemirror_mode": {
        "name": "ipython",
        "version": 3
      },
      "file_extension": ".py",
      "mimetype": "text/x-python",
      "name": "python",
      "nbconvert_exporter": "python",
      "pygments_lexer": "ipython3",
      "version": "3.7.6"
    },
    "colab": {
      "provenance": [],
      "include_colab_link": true
    }
  },
  "nbformat": 4,
  "nbformat_minor": 0
}