{
  "cells": [
    {
      "cell_type": "markdown",
      "metadata": {
        "id": "view-in-github",
        "colab_type": "text"
      },
      "source": [
        "<a href=\"https://colab.research.google.com/github/OlandezVoador/SI_atividades/blob/gold/Lab%201%20-%20Introdu%C3%A7%C3%A3o.ipynb\" target=\"_parent\"><img src=\"https://colab.research.google.com/assets/colab-badge.svg\" alt=\"Open In Colab\"/></a>"
      ]
    },
    {
      "cell_type": "markdown",
      "metadata": {
        "id": "yE4-oPFbHzVJ"
      },
      "source": [
        "# Sistemas Inteligentes\n",
        "\n",
        "## Lab 1 - Introdução\n",
        "\n",
        "* Metodologia de trabalho\n",
        "* Apresentação das ferramentas\n",
        "* Comandos usuais da linguagem Python"
      ]
    },
    {
      "cell_type": "markdown",
      "metadata": {
        "id": "wRPwUOSYHzVK"
      },
      "source": [
        "### Identificação do Aluno"
      ]
    },
    {
      "cell_type": "markdown",
      "metadata": {
        "id": "tgG8qEXyHzVL"
      },
      "source": [
        "#### Nome Completo"
      ]
    },
    {
      "cell_type": "markdown",
      "metadata": {
        "id": "NWNBcQWzHzVM"
      },
      "source": [
        "Felipe Banes Lopes Ferreira"
      ]
    },
    {
      "cell_type": "markdown",
      "metadata": {
        "id": "pxjwwroDHzVN"
      },
      "source": [
        "#### RA"
      ]
    },
    {
      "cell_type": "markdown",
      "metadata": {
        "id": "B7ovlRBIHzVO"
      },
      "source": [
        "21076215"
      ]
    },
    {
      "cell_type": "markdown",
      "metadata": {
        "id": "ADgFi63qHzVP"
      },
      "source": [
        "## 1. Importando bibliotecas, pacotes e funções"
      ]
    },
    {
      "cell_type": "code",
      "execution_count": 1,
      "metadata": {
        "id": "-IDcWU6AHzVQ"
      },
      "outputs": [],
      "source": [
        "# Biblioteca de álgebra linear\n",
        "import numpy as np\n",
        "\n",
        "# Pacote de funções para plot\n",
        "import matplotlib.pyplot as plt\n",
        "\n",
        "# Função de Mínimos Quadrados ('Least Squares')\n",
        "from scipy.linalg import lstsq"
      ]
    },
    {
      "cell_type": "markdown",
      "metadata": {
        "id": "H6iU7WOgHzVU"
      },
      "source": [
        "<font color='red'>**Exercício:**</font>  importe a função **hamming** do pacote **signal** pertencente à biblioteca **scipy** já apelidando-a como \"ham\"."
      ]
    },
    {
      "cell_type": "code",
      "execution_count": 3,
      "metadata": {
        "id": "FEyZs9KNHzVV"
      },
      "outputs": [],
      "source": [
        "from scipy.signal import hamming as ham"
      ]
    },
    {
      "cell_type": "markdown",
      "metadata": {
        "id": "50BMBV0bHzVY"
      },
      "source": [
        "## 2. Tipos de dados"
      ]
    },
    {
      "cell_type": "markdown",
      "metadata": {
        "id": "KGKiKcOUHzVZ"
      },
      "source": [
        "### 2.1. Inteiro"
      ]
    },
    {
      "cell_type": "code",
      "execution_count": 4,
      "metadata": {
        "colab": {
          "base_uri": "https://localhost:8080/"
        },
        "id": "A1Uqg-etHzVa",
        "outputId": "868fd085-86d1-4880-8d28-396b9f471bd4"
      },
      "outputs": [
        {
          "output_type": "execute_result",
          "data": {
            "text/plain": [
              "int"
            ]
          },
          "metadata": {},
          "execution_count": 4
        }
      ],
      "source": [
        "type(3)"
      ]
    },
    {
      "cell_type": "markdown",
      "metadata": {
        "id": "u6t5oIP3HzVd"
      },
      "source": [
        "### 2.2. Float"
      ]
    },
    {
      "cell_type": "code",
      "execution_count": 5,
      "metadata": {
        "colab": {
          "base_uri": "https://localhost:8080/"
        },
        "id": "4BiM85XSHzVe",
        "outputId": "8bf63cc4-acac-4863-fad9-18f7cd05de7e"
      },
      "outputs": [
        {
          "output_type": "execute_result",
          "data": {
            "text/plain": [
              "float"
            ]
          },
          "metadata": {},
          "execution_count": 5
        }
      ],
      "source": [
        "type(3.23213)"
      ]
    },
    {
      "cell_type": "markdown",
      "metadata": {
        "id": "mjxbh0orHzVh"
      },
      "source": [
        "### 2.3. String"
      ]
    },
    {
      "cell_type": "code",
      "execution_count": 6,
      "metadata": {
        "colab": {
          "base_uri": "https://localhost:8080/"
        },
        "id": "xpHlqcK_HzVi",
        "outputId": "27e903b9-0c3a-4246-f3a1-b1dea9eddbb9"
      },
      "outputs": [
        {
          "output_type": "execute_result",
          "data": {
            "text/plain": [
              "str"
            ]
          },
          "metadata": {},
          "execution_count": 6
        }
      ],
      "source": [
        "type('Testing')"
      ]
    },
    {
      "cell_type": "markdown",
      "metadata": {
        "id": "afSjJuSCHzVl"
      },
      "source": [
        "### 2.4. List"
      ]
    },
    {
      "cell_type": "code",
      "execution_count": 7,
      "metadata": {
        "colab": {
          "base_uri": "https://localhost:8080/"
        },
        "id": "FYY-0vBIHzVn",
        "outputId": "f2fbc85e-4b37-4a5c-fe91-06e3046d9108"
      },
      "outputs": [
        {
          "output_type": "execute_result",
          "data": {
            "text/plain": [
              "list"
            ]
          },
          "metadata": {},
          "execution_count": 7
        }
      ],
      "source": [
        "type([1,2,3])"
      ]
    },
    {
      "cell_type": "markdown",
      "metadata": {
        "id": "D6zaF8QQHzVr"
      },
      "source": [
        "### 2.5. Array"
      ]
    },
    {
      "cell_type": "code",
      "execution_count": 8,
      "metadata": {
        "colab": {
          "base_uri": "https://localhost:8080/"
        },
        "id": "I8FGJyCiHzVs",
        "outputId": "f5764fba-1e3f-4311-f5fe-ba3e121c49ad"
      },
      "outputs": [
        {
          "output_type": "execute_result",
          "data": {
            "text/plain": [
              "numpy.ndarray"
            ]
          },
          "metadata": {},
          "execution_count": 8
        }
      ],
      "source": [
        "type(np.array([1,2,3]))"
      ]
    },
    {
      "cell_type": "markdown",
      "metadata": {
        "id": "BCWXsUz-HzVv"
      },
      "source": [
        "<font color='red'>**Exercício:**</font>  Crie uma variável ou estrutura de qualquer tipo, então verifique se ela está, de fato, com o tipo almejado por você no ato da criação."
      ]
    },
    {
      "cell_type": "code",
      "execution_count": 11,
      "metadata": {
        "colab": {
          "base_uri": "https://localhost:8080/"
        },
        "id": "dbxyST2zHzVw",
        "outputId": "97ecaa75-145b-4fba-d39c-af28d2c6e8b7"
      },
      "outputs": [
        {
          "output_type": "execute_result",
          "data": {
            "text/plain": [
              "int"
            ]
          },
          "metadata": {},
          "execution_count": 11
        }
      ],
      "source": [
        "a = 10\n",
        "type(a)"
      ]
    },
    {
      "cell_type": "markdown",
      "metadata": {
        "id": "bJxbu_DwHzVz"
      },
      "source": [
        "## 3. Operações básicas"
      ]
    },
    {
      "cell_type": "markdown",
      "metadata": {
        "id": "y2GsTtFsHzV0"
      },
      "source": [
        "### 3.1. Soma"
      ]
    },
    {
      "cell_type": "code",
      "execution_count": null,
      "metadata": {
        "id": "FHkV3Ve3HzV1"
      },
      "outputs": [],
      "source": [
        "5 + 9"
      ]
    },
    {
      "cell_type": "markdown",
      "metadata": {
        "id": "cyZf5vCjHzV3"
      },
      "source": [
        "### 3.2. Subtração"
      ]
    },
    {
      "cell_type": "code",
      "execution_count": null,
      "metadata": {
        "id": "9EDYs1sQHzV4"
      },
      "outputs": [],
      "source": [
        "3 - 7"
      ]
    },
    {
      "cell_type": "markdown",
      "metadata": {
        "id": "XmaFQcu-HzV7"
      },
      "source": [
        "### 3.3. Multiplicação"
      ]
    },
    {
      "cell_type": "code",
      "execution_count": null,
      "metadata": {
        "id": "LNcfpFYmHzV8"
      },
      "outputs": [],
      "source": [
        "2 * 4"
      ]
    },
    {
      "cell_type": "markdown",
      "metadata": {
        "id": "T7iB5Gr3HzV_"
      },
      "source": [
        "### 3.4. Divisão"
      ]
    },
    {
      "cell_type": "code",
      "execution_count": null,
      "metadata": {
        "id": "Gp8KecSQHzWA"
      },
      "outputs": [],
      "source": [
        "15 / 3"
      ]
    },
    {
      "cell_type": "markdown",
      "metadata": {
        "id": "6JxKtGZiHzWC"
      },
      "source": [
        "<font color='red'>**Exercício:**</font>  efetue algum cálculo envolvendo todas as operações básicas; tudo em uma mesma linha de código."
      ]
    },
    {
      "cell_type": "code",
      "execution_count": null,
      "metadata": {
        "id": "yTvB7dNzHzWD"
      },
      "outputs": [],
      "source": [
        "### INSIRA AQUI O CÓDIGO ###"
      ]
    },
    {
      "cell_type": "markdown",
      "metadata": {
        "id": "70RmtObIHzWH"
      },
      "source": [
        "## 4. Manipulações com Listas"
      ]
    },
    {
      "cell_type": "markdown",
      "metadata": {
        "id": "7flDDuPpHzWI"
      },
      "source": [
        "### 4.1. Criando uma lista"
      ]
    },
    {
      "cell_type": "markdown",
      "metadata": {
        "id": "9z13e5fPHzWJ"
      },
      "source": [
        "Estes são alguns exemplos típicos de listas em Python. L1 é uma lista simples; L2 é uma lista de listas de mesmo tamanho; L3 é uma lista de listas de diferentes tamanhos; e L4 é uma lista vazia."
      ]
    },
    {
      "cell_type": "code",
      "execution_count": null,
      "metadata": {
        "id": "7rA8y4u0HzWK"
      },
      "outputs": [],
      "source": [
        "L1 = [1, 3, 7, 29]\n",
        "\n",
        "L2 = [[1,2,3], [4,5,6], [7,8,9]]\n",
        "\n",
        "L3 = [[1], [2,3], [4,5,6]]\n",
        "\n",
        "L4 = []"
      ]
    },
    {
      "cell_type": "markdown",
      "metadata": {
        "id": "ShWhftAkHzWP"
      },
      "source": [
        "### 4.2. Adicionando itens ao fim de uma lista"
      ]
    },
    {
      "cell_type": "code",
      "execution_count": null,
      "metadata": {
        "id": "IwmjWQaDHzWQ"
      },
      "outputs": [],
      "source": [
        "L_teste = []\n",
        "\n",
        "L_teste.append(5)\n",
        "L_teste.append([1,3])\n",
        "L_teste.append([[7,2], [9, 0]])\n",
        "\n",
        "\n",
        "print(L_teste)"
      ]
    },
    {
      "cell_type": "markdown",
      "metadata": {
        "id": "wiSfhSGZHzWT"
      },
      "source": [
        "### 4.3. Adicionando o conteúdo de uma lista ao fim de outra"
      ]
    },
    {
      "cell_type": "code",
      "execution_count": null,
      "metadata": {
        "id": "eK06YQhpHzWU"
      },
      "outputs": [],
      "source": [
        "L_teste_1 = []\n",
        "\n",
        "L_teste_2 = [3,4,5]\n",
        "L_teste_3 = [9,1,2,3,4,1]\n",
        "\n",
        "L_teste_1.extend(L_teste_2)\n",
        "\n",
        "print(L_teste_1)\n",
        "\n",
        "L_teste_1.extend(L_teste_3)\n",
        "\n",
        "print(L_teste_1)"
      ]
    },
    {
      "cell_type": "markdown",
      "metadata": {
        "id": "_jeT0lKyHzWW"
      },
      "source": [
        "### 4.4. Encontrando a posição do primeiro item com determinado valor na lista"
      ]
    },
    {
      "cell_type": "code",
      "execution_count": null,
      "metadata": {
        "id": "ZAZC2Tg7HzWX"
      },
      "outputs": [],
      "source": [
        "L_teste = [7, 1, 2, 5, 2, 8, 9, 0, 3]\n",
        "\n",
        "L_teste.index(5)"
      ]
    },
    {
      "cell_type": "markdown",
      "metadata": {
        "id": "GbTSR6NjHzWa"
      },
      "source": [
        "### 4.5. Ordenando os itens da lista"
      ]
    },
    {
      "cell_type": "code",
      "execution_count": null,
      "metadata": {
        "id": "pA27WBg6HzWb"
      },
      "outputs": [],
      "source": [
        "L_teste = [3, 1, 4, 6, 7, 9]\n",
        "\n",
        "L_teste.sort()\n",
        "\n",
        "print(L_teste)\n",
        "\n",
        "L_teste.sort(reverse=True)\n",
        "\n",
        "print(L_teste)"
      ]
    },
    {
      "cell_type": "markdown",
      "metadata": {
        "id": "rO4lre__HzWd"
      },
      "source": [
        "<font color='red'>**Exercício:**</font> crie duas novas listas de diferentes tamanhos, então adicione os elementos da segunda lista ao final da primeira lista e imprima a lista resultante e a posição de um dos números dessa lista. Por fim, ordene a lista resultante e imprima a lista e a posição do mesmo valor."
      ]
    },
    {
      "cell_type": "code",
      "execution_count": null,
      "metadata": {
        "id": "EatgAtAHHzWe"
      },
      "outputs": [],
      "source": [
        "### INSIRA AQUI O CÓDIGO ###"
      ]
    },
    {
      "cell_type": "markdown",
      "metadata": {
        "id": "Cnb9ErlIHzWg"
      },
      "source": [
        "## 5. Manipulações com Arrays (vetores ou matrizes)"
      ]
    },
    {
      "cell_type": "markdown",
      "metadata": {
        "id": "kHKIOq0NHzWh"
      },
      "source": [
        "### 5.1. Criando duas matrizes de dimensões 3x3"
      ]
    },
    {
      "cell_type": "code",
      "execution_count": null,
      "metadata": {
        "id": "ik5b0IBRHzWi"
      },
      "outputs": [],
      "source": [
        "A = np.array([ [3, 4, 5], [6, 7, 8], [9, 0, 1] ])\n",
        "B = np.array([ [0, 1, 2], [3, 4, 5], [6, 7, 8] ])"
      ]
    },
    {
      "cell_type": "markdown",
      "metadata": {
        "id": "7SNcJdhJHzWk"
      },
      "source": [
        "### 5.2. Exibindo as matrizes"
      ]
    },
    {
      "cell_type": "markdown",
      "metadata": {
        "id": "o9biPUgUHzWm"
      },
      "source": [
        "#### 5.2.1. Por completo"
      ]
    },
    {
      "cell_type": "code",
      "execution_count": null,
      "metadata": {
        "id": "1JDuo-9MHzWm"
      },
      "outputs": [],
      "source": [
        "A"
      ]
    },
    {
      "cell_type": "code",
      "execution_count": null,
      "metadata": {
        "id": "wgJTEXOaHzWp"
      },
      "outputs": [],
      "source": [
        "B"
      ]
    },
    {
      "cell_type": "markdown",
      "metadata": {
        "id": "9lHYwhzYHzWr"
      },
      "source": [
        "#### 5.2.2. Parcialmente"
      ]
    },
    {
      "cell_type": "code",
      "execution_count": null,
      "metadata": {
        "id": "LIiZ_qpuHzWs"
      },
      "outputs": [],
      "source": [
        "A[:, :2]"
      ]
    },
    {
      "cell_type": "code",
      "execution_count": null,
      "metadata": {
        "id": "B-YENdqlHzWv"
      },
      "outputs": [],
      "source": [
        "B[1:, 1]"
      ]
    },
    {
      "cell_type": "markdown",
      "metadata": {
        "id": "x85tWJ_UHzWx"
      },
      "source": [
        "### 5.3. Soma de matrizes"
      ]
    },
    {
      "cell_type": "code",
      "execution_count": null,
      "metadata": {
        "id": "LGiuzi4bHzWz"
      },
      "outputs": [],
      "source": [
        "A + B"
      ]
    },
    {
      "cell_type": "markdown",
      "metadata": {
        "id": "jnOBEE7HHzW2"
      },
      "source": [
        "### 5.4. Subtração de matrizes"
      ]
    },
    {
      "cell_type": "code",
      "execution_count": null,
      "metadata": {
        "id": "avhf7Fd5HzW3"
      },
      "outputs": [],
      "source": [
        "A - B"
      ]
    },
    {
      "cell_type": "markdown",
      "metadata": {
        "id": "U50OM0GNHzW5"
      },
      "source": [
        "### 5.5. Multiplicação de matriz por escalar"
      ]
    },
    {
      "cell_type": "code",
      "execution_count": null,
      "metadata": {
        "id": "M0pAkyrBHzW6"
      },
      "outputs": [],
      "source": [
        "2 * A"
      ]
    },
    {
      "cell_type": "markdown",
      "metadata": {
        "id": "YvZmTHVKHzW8"
      },
      "source": [
        "### 5.6. Produto escalar"
      ]
    },
    {
      "cell_type": "code",
      "execution_count": null,
      "metadata": {
        "id": "Ov51fiWyHzW9"
      },
      "outputs": [],
      "source": [
        "np.dot(A, B)"
      ]
    },
    {
      "cell_type": "markdown",
      "metadata": {
        "id": "SrS_CqZhHzW_"
      },
      "source": [
        "### 5.7. Produto vetorial"
      ]
    },
    {
      "cell_type": "code",
      "execution_count": null,
      "metadata": {
        "id": "kqnaT6YEHzXA"
      },
      "outputs": [],
      "source": [
        "np.cross(A, B)"
      ]
    },
    {
      "cell_type": "markdown",
      "metadata": {
        "id": "0iUSk3luHzXC"
      },
      "source": [
        "### 5.8. Transposição"
      ]
    },
    {
      "cell_type": "markdown",
      "metadata": {
        "id": "X46Szo4YHzXD"
      },
      "source": [
        "#### 5.8.1. Utilizando a biblioteca Numpy"
      ]
    },
    {
      "cell_type": "code",
      "execution_count": null,
      "metadata": {
        "id": "Z0oNZyuKHzXE"
      },
      "outputs": [],
      "source": [
        "np.transpose(A)"
      ]
    },
    {
      "cell_type": "markdown",
      "metadata": {
        "id": "n1mgAqjbHzXI"
      },
      "source": [
        "#### 5.8.2. Utilizando a transposição do próprio Python"
      ]
    },
    {
      "cell_type": "code",
      "execution_count": null,
      "metadata": {
        "id": "DIDxQGR_HzXK"
      },
      "outputs": [],
      "source": [
        "A.T"
      ]
    },
    {
      "cell_type": "markdown",
      "metadata": {
        "id": "nGlgWInGHzXM"
      },
      "source": [
        "### 5.9. Inversão"
      ]
    },
    {
      "cell_type": "code",
      "execution_count": null,
      "metadata": {
        "id": "EUyK5tJxHzXN"
      },
      "outputs": [],
      "source": [
        "np.invert(A)"
      ]
    },
    {
      "cell_type": "markdown",
      "metadata": {
        "id": "XM_acfitHzXP"
      },
      "source": [
        "### 5.10. Verificando as dimensões ('shape') da matriz"
      ]
    },
    {
      "cell_type": "code",
      "execution_count": null,
      "metadata": {
        "id": "8Xx0qVJSHzXQ"
      },
      "outputs": [],
      "source": [
        "A.shape"
      ]
    },
    {
      "cell_type": "markdown",
      "metadata": {
        "id": "j_K_O3OmHzXS"
      },
      "source": [
        "### 5.11. Adicionando novas linhas ao fim de uma matriz já existente"
      ]
    },
    {
      "cell_type": "code",
      "execution_count": null,
      "metadata": {
        "id": "-KK1bmCdHzXT"
      },
      "outputs": [],
      "source": [
        "np.row_stack((A, np.array([1, 3, 7])))"
      ]
    },
    {
      "cell_type": "markdown",
      "metadata": {
        "id": "pmAhU7ypHzXV"
      },
      "source": [
        "### 5.12. Adicionando novas colunas ao fim de uma matriz já existente"
      ]
    },
    {
      "cell_type": "code",
      "execution_count": null,
      "metadata": {
        "id": "zVOEqSTvHzXW"
      },
      "outputs": [],
      "source": [
        "np.column_stack((A, np.array([1, 3, 7])))"
      ]
    },
    {
      "cell_type": "markdown",
      "metadata": {
        "id": "_nyvbOfYHzXa"
      },
      "source": [
        "<font color='red'>**Exercício:**</font> crie dois arrays 3x2, então calcule o produto escalar de um deles pela transposta do outro e imprima a primeira linha do array resultante."
      ]
    },
    {
      "cell_type": "code",
      "execution_count": null,
      "metadata": {
        "id": "plW-vwYYHzXb"
      },
      "outputs": [],
      "source": [
        "### INSIRA AQUI O CÓDIGO ###"
      ]
    },
    {
      "cell_type": "markdown",
      "metadata": {
        "id": "k12wgIcTHzXd"
      },
      "source": [
        "## 6. Gerando um sinal e plotando gráficos"
      ]
    },
    {
      "cell_type": "markdown",
      "metadata": {
        "id": "gamv_5eTHzXe"
      },
      "source": [
        "### 6.1. Gerando um vetor de 50 posições, igualmente \"espaçadas\", com valores de 0 a 6$\\pi$"
      ]
    },
    {
      "cell_type": "code",
      "execution_count": null,
      "metadata": {
        "id": "WC0ThNzgHzXf"
      },
      "outputs": [],
      "source": [
        "x = np.linspace(0, 6 * np.pi, 50)"
      ]
    },
    {
      "cell_type": "markdown",
      "metadata": {
        "id": "06t5UU9sHzXh"
      },
      "source": [
        "### 6.2. Gerando um sinal senoidal a partir das posições do vetor anteriormente criado"
      ]
    },
    {
      "cell_type": "code",
      "execution_count": null,
      "metadata": {
        "id": "WzSzja0wHzXh"
      },
      "outputs": [],
      "source": [
        "y = np.sin(x)"
      ]
    },
    {
      "cell_type": "markdown",
      "metadata": {
        "id": "G7WAfgnPHzXj"
      },
      "source": [
        "### 6.3. Plotando o sinal"
      ]
    },
    {
      "cell_type": "code",
      "execution_count": null,
      "metadata": {
        "id": "MQXn12lhHzXk"
      },
      "outputs": [],
      "source": [
        "plt.plot(x, y, label='cos(t)')\n",
        "plt.legend()\n",
        "plt.title('Sinal Senoidal')\n",
        "plt.xlabel('Tempo')\n",
        "plt.ylabel('Valor')"
      ]
    },
    {
      "cell_type": "markdown",
      "metadata": {
        "id": "v5tclUnsHzXm"
      },
      "source": [
        "### 6.4 Plotando o gráfico de dispersão ('Scatter')"
      ]
    },
    {
      "cell_type": "code",
      "execution_count": null,
      "metadata": {
        "id": "GRHA6qzNHzXn"
      },
      "outputs": [],
      "source": [
        "plt.scatter(x, y, label='cos(t)')\n",
        "plt.legend()\n",
        "plt.title('Sinal Senoidal')\n",
        "plt.xlabel('Tempo')\n",
        "plt.ylabel('Valor')"
      ]
    },
    {
      "cell_type": "markdown",
      "metadata": {
        "id": "o0ZBjTnjHzXp"
      },
      "source": [
        "### 6.5. Plotando gráficos de hastes ou ramos ('Stem')"
      ]
    },
    {
      "cell_type": "code",
      "execution_count": null,
      "metadata": {
        "id": "s2Nh97o-HzXq"
      },
      "outputs": [],
      "source": [
        "markerline, stemlines, baseline = plt.stem(x, y, label='cos(t)')\n",
        "plt.setp(markerline, color='r')\n",
        "plt.setp(stemlines, color='g', linewidth=3)\n",
        "plt.setp(baseline, color='b', linewidth=2)\n",
        "plt.legend()\n",
        "plt.title('Sinal Senoidal')\n",
        "plt.xlabel('Tempo')\n",
        "plt.ylabel('Valor')"
      ]
    },
    {
      "cell_type": "markdown",
      "metadata": {
        "id": "LqrOTONXHzXv"
      },
      "source": [
        "### 6.6. Plotando múltiplos gráficos em uma única figura"
      ]
    },
    {
      "cell_type": "code",
      "execution_count": null,
      "metadata": {
        "id": "a-tj_nP9HzXw"
      },
      "outputs": [],
      "source": [
        "plt.plot(x, y, label='cos(t)')\n",
        "plt.plot(x, 2 * y, label='2 * cos(t)')\n",
        "plt.legend()\n",
        "plt.title('Sinais Senoidais')\n",
        "plt.xlabel('Tempo')\n",
        "plt.ylabel('Valor')"
      ]
    },
    {
      "cell_type": "markdown",
      "metadata": {
        "id": "q6lMbefuHzX0"
      },
      "source": [
        "<font color='red'>**Exercício:**</font> gere três sinais diferentes, então faça o plot, o gráfico de dispersão e o diagrama de hastes; apenas um tipo para cada sinal."
      ]
    },
    {
      "cell_type": "code",
      "execution_count": null,
      "metadata": {
        "id": "Vp8kMOKlHzX0"
      },
      "outputs": [],
      "source": [
        "### INSIRA AQUI O CÓDIGO ###"
      ]
    },
    {
      "cell_type": "markdown",
      "metadata": {
        "id": "ougyaxCDHzX3"
      },
      "source": [
        "## 7. Condicionais (if, elif e else)"
      ]
    },
    {
      "cell_type": "code",
      "execution_count": null,
      "metadata": {
        "id": "yCySsrYXHzX3"
      },
      "outputs": [],
      "source": [
        "n = 5\n",
        "\n",
        "if n < 4:\n",
        "    print('Low')\n",
        "elif n == 4:\n",
        "    print('Mid')\n",
        "else:\n",
        "    print('High')"
      ]
    },
    {
      "cell_type": "markdown",
      "metadata": {
        "id": "G7GJmWizHzX6"
      },
      "source": [
        "## 8. Laços de repetição"
      ]
    },
    {
      "cell_type": "markdown",
      "metadata": {
        "id": "KFWGAheQHzX7"
      },
      "source": [
        "### 8.1. For"
      ]
    },
    {
      "cell_type": "code",
      "execution_count": null,
      "metadata": {
        "id": "k0NEjai6HzX9",
        "outputId": "c4d48799-54fd-4550-9176-2d94b3212f28"
      },
      "outputs": [
        {
          "name": "stdout",
          "output_type": "stream",
          "text": [
            "0\n",
            "1\n",
            "2\n",
            "3\n",
            "4\n",
            "5\n",
            "6\n",
            "7\n",
            "8\n",
            "9\n"
          ]
        }
      ],
      "source": [
        "for x in range(10):\n",
        "    print(x)"
      ]
    },
    {
      "cell_type": "code",
      "execution_count": null,
      "metadata": {
        "id": "TQdx7r_oHzX_"
      },
      "outputs": [],
      "source": [
        "K = [1, 3, 7, 11, 19]\n",
        "\n",
        "for x in K:\n",
        "    print(x)"
      ]
    },
    {
      "cell_type": "code",
      "execution_count": null,
      "metadata": {
        "id": "aOij-CZ_HzYA"
      },
      "outputs": [],
      "source": [
        "KK = [[1,3,2,5], [4,8,7,12]]\n",
        "\n",
        "for x in KK:\n",
        "    print(x)"
      ]
    },
    {
      "cell_type": "markdown",
      "metadata": {
        "id": "4FlPn6LeHzYC"
      },
      "source": [
        "### 8.2. While"
      ]
    },
    {
      "cell_type": "code",
      "execution_count": null,
      "metadata": {
        "id": "EcOjiw6KHzYD"
      },
      "outputs": [],
      "source": [
        "i = 0\n",
        "\n",
        "while i < 5:\n",
        "    print(i)\n",
        "    i += 1"
      ]
    },
    {
      "cell_type": "markdown",
      "metadata": {
        "id": "VK4G97_THzYF"
      },
      "source": [
        "## 9. Definindo funções"
      ]
    },
    {
      "cell_type": "markdown",
      "metadata": {
        "id": "WnX_T-MaHzYF"
      },
      "source": [
        "### 9.1. Simples"
      ]
    },
    {
      "cell_type": "markdown",
      "metadata": {
        "id": "9L8x9lXJHzYG"
      },
      "source": [
        "Esta é a definição de um exemplo bastante simples, que apenas retorna o resultado da soma dos dois números de entrada."
      ]
    },
    {
      "cell_type": "code",
      "execution_count": null,
      "metadata": {
        "id": "ZPl4OR8SHzYH"
      },
      "outputs": [],
      "source": [
        "def soma(a, b):\n",
        "    return a + b"
      ]
    },
    {
      "cell_type": "markdown",
      "metadata": {
        "id": "p3cScCXgHzYK"
      },
      "source": [
        "Agora, que a função já está definida, ela está pronta para ser usada neste Notebook, independentemente da célula em que seja invocada."
      ]
    },
    {
      "cell_type": "code",
      "execution_count": null,
      "metadata": {
        "id": "aDoug5qtHzYL"
      },
      "outputs": [],
      "source": [
        "soma(7, 8)"
      ]
    },
    {
      "cell_type": "markdown",
      "metadata": {
        "id": "XeUiPOF9HzYN"
      },
      "source": [
        "### 9.2. Com valores padrão"
      ]
    },
    {
      "cell_type": "markdown",
      "metadata": {
        "id": "qRDe8rIUHzYP"
      },
      "source": [
        "Funções em Python podem ter variáveis de entrada com valores padrão, o que faz com que o usuário não precise entrar com o valor correspondente à variável de entrada em questão, desde que se deseje utilizar o valor padrão."
      ]
    },
    {
      "cell_type": "code",
      "execution_count": null,
      "metadata": {
        "id": "r2RjFrSEHzYQ"
      },
      "outputs": [],
      "source": [
        "def soma_padrao(a, b=3):\n",
        "    return a + b"
      ]
    },
    {
      "cell_type": "markdown",
      "metadata": {
        "id": "XJRall-DHzYS"
      },
      "source": [
        "Pela função soma_padrao(), se forem utilizados os dois argumentos de entrada, o seu funcionamento é o mesmo da função soma(), porém, ao se utilizar um único argumento de entrada, a função passa a considerar o valor padrão para a segunda entrada (não fornecida pelo usuário)."
      ]
    },
    {
      "cell_type": "code",
      "execution_count": null,
      "metadata": {
        "id": "lUeypMQfHzYT"
      },
      "outputs": [],
      "source": [
        "soma_padrao(7, 8)"
      ]
    },
    {
      "cell_type": "code",
      "execution_count": null,
      "metadata": {
        "id": "D0irrgqpHzYV"
      },
      "outputs": [],
      "source": [
        "soma_padrao(7)"
      ]
    },
    {
      "cell_type": "markdown",
      "metadata": {
        "id": "tthWnrUXHzYa"
      },
      "source": [
        "<font color='red'>**Exercício:**</font> crie uma função que utilize ao menos um condicional e ao menos um laço de repetição, além de ter pelo menos uma variável de entrada com valor padrão. Então, em outra célula, utilize a função criada para mostrar que funciona adequadamente."
      ]
    },
    {
      "cell_type": "code",
      "execution_count": null,
      "metadata": {
        "id": "hbxFy1x0HzYb"
      },
      "outputs": [],
      "source": [
        "### INSIRA AQUI O CÓDIGO DA FUNÇÃO ###"
      ]
    },
    {
      "cell_type": "code",
      "execution_count": null,
      "metadata": {
        "id": "JhqjDQaYHzYd"
      },
      "outputs": [],
      "source": [
        "### INSIRA AQUI O CÓDIGO DE TESTE ###"
      ]
    },
    {
      "cell_type": "markdown",
      "metadata": {
        "id": "5Sx_6VOnHzYg"
      },
      "source": [
        "## 10. Ajuda"
      ]
    },
    {
      "cell_type": "markdown",
      "metadata": {
        "id": "xaMc7DL4HzYh"
      },
      "source": [
        "#### Procurem consultar as documentações correspondentes para entender como funcionam as funções.\n",
        "\n",
        "* [Python](https://docs.python.org/3.6/)\n",
        "* [Numpy](https://docs.scipy.org/doc/numpy/reference/)\n",
        "* [Scipy](https://docs.scipy.org/doc/scipy/reference/)\n",
        "* [Scikit-Learn](http://scikit-learn.org/stable/documentation.html)"
      ]
    },
    {
      "cell_type": "markdown",
      "metadata": {
        "id": "f3D6dv-UHzYi"
      },
      "source": [
        "Utilizando a própria linguagem Python também é possível obter ajuda quando se quer saber como funciona uma dada função. Para isso, basta utilizar a função $help()$ com o nome da função que deseja pesquisar. Por exemplo, caso se deseje saber mais sobre a função $linspace()$ da biblioteca Numpy, pode-se pesquisar assim:"
      ]
    },
    {
      "cell_type": "code",
      "execution_count": null,
      "metadata": {
        "id": "lmmnusB9HzYj"
      },
      "outputs": [],
      "source": [
        "help(np.linspace)"
      ]
    },
    {
      "cell_type": "markdown",
      "metadata": {
        "id": "jASnI-haHzYm"
      },
      "source": [
        "#### Outras fontes também podem ser consultadas."
      ]
    },
    {
      "cell_type": "markdown",
      "metadata": {
        "id": "WKck7GipHzYm"
      },
      "source": [
        "* [StackOverflow](https://stackoverflow.com/)\n",
        "* [Quora](https://www.quora.com/)"
      ]
    },
    {
      "cell_type": "code",
      "execution_count": null,
      "metadata": {
        "id": "2huHnscLHzYn"
      },
      "outputs": [],
      "source": []
    }
  ],
  "metadata": {
    "colab": {
      "name": "Lab 1 - Introdução.ipynb",
      "provenance": [],
      "include_colab_link": true
    },
    "kernelspec": {
      "display_name": "Python 3",
      "language": "python",
      "name": "python3"
    },
    "language_info": {
      "codemirror_mode": {
        "name": "ipython",
        "version": 3
      },
      "file_extension": ".py",
      "mimetype": "text/x-python",
      "name": "python",
      "nbconvert_exporter": "python",
      "pygments_lexer": "ipython3",
      "version": "3.7.6"
    }
  },
  "nbformat": 4,
  "nbformat_minor": 0
}