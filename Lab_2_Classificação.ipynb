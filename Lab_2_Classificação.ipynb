{
  "cells": [
    {
      "cell_type": "markdown",
      "metadata": {
        "id": "view-in-github",
        "colab_type": "text"
      },
      "source": [
        "<a href=\"https://colab.research.google.com/github/OlandezVoador/SI_atividades/blob/gold/Lab_2_Classifica%C3%A7%C3%A3o.ipynb\" target=\"_parent\"><img src=\"https://colab.research.google.com/assets/colab-badge.svg\" alt=\"Open In Colab\"/></a>"
      ]
    },
    {
      "cell_type": "markdown",
      "metadata": {
        "id": "YT4cTPUi8gaS"
      },
      "source": [
        "# Sistemas Inteligentes\n",
        "\n",
        "## Laboratório 2 - Classificação\n",
        "\n",
        "Neste laboratório serão introduzidos: **Linear Discriminant Analysis (LDA)**, **Support Vector Machine (SVM)** e **Artificial Neural Networks (ANN)**."
      ]
    },
    {
      "cell_type": "markdown",
      "metadata": {
        "id": "sWKsWZnp8gaZ"
      },
      "source": [
        "### Identificação do Aluno"
      ]
    },
    {
      "cell_type": "markdown",
      "metadata": {
        "id": "7R0XO6To8gaa"
      },
      "source": [
        "#### Nome Completo"
      ]
    },
    {
      "cell_type": "markdown",
      "metadata": {
        "id": "MGuXy3r_8gab"
      },
      "source": [
        "Felipe Banes Lopes Ferreira"
      ]
    },
    {
      "cell_type": "markdown",
      "metadata": {
        "id": "wrL9TYYN8gac"
      },
      "source": [
        "#### RA"
      ]
    },
    {
      "cell_type": "markdown",
      "metadata": {
        "id": "9ancH8s78gae"
      },
      "source": [
        "21076215"
      ]
    },
    {
      "cell_type": "markdown",
      "metadata": {
        "id": "Pm8LZh4W8gai"
      },
      "source": [
        "### Importação e preparação dos dados"
      ]
    },
    {
      "cell_type": "markdown",
      "metadata": {
        "id": "evoK7Adj8gaj"
      },
      "source": [
        "Importe o pacote **datasets** da biblioteca **sklearn**, então carregue o dataset de imagens de dígitos, utilizando a função **load_digits()** do pacote de datasets importado, já atribuindo-o à variável **digits_dataset**."
      ]
    },
    {
      "cell_type": "code",
      "execution_count": 35,
      "metadata": {
        "id": "PCBRYl6A8gak"
      },
      "outputs": [],
      "source": [
        "from sklearn.datasets import fetch_lfw_people\n",
        "from sklearn.datasets import load_digits\n",
        "import warnings\n",
        "warnings.filterwarnings('ignore')\n",
        "import numpy as np\n",
        "import matplotlib.pyplot as plt"
      ]
    },
    {
      "cell_type": "code",
      "source": [
        "def plotar(valor):\n",
        "  plt.figure(figsize=(8, 6))\n",
        "  sns.heatmap(valor, annot=True, fmt=\"d\", cmap=\"Blues\", xticklabels=[0, 1, 2], yticklabels=[0, 1, 2])\n",
        "  plt.xlabel('Predito')\n",
        "  plt.ylabel('Real')\n",
        "  plt.title('Matriz de Confusão')\n",
        "  plt.show()"
      ],
      "metadata": {
        "id": "Qf5NmgyaFJrf"
      },
      "execution_count": 41,
      "outputs": []
    },
    {
      "cell_type": "markdown",
      "metadata": {
        "id": "z2PbTo7Z8gam"
      },
      "source": [
        "Tendo feito o processo adequadamente, a variável **digits_dataset** conterá todo o dataset correspondente, inclusive com informações que não são de nosso interesse para esta atividade. Para selecionar apenas o que é de nosso interesse, atribua à variável **digits_img** apenas o objeto **images** de **digits_dataset**.\n",
        "\n",
        "Utilize a função **reshape** para forçar um formato unidimensional para cada imagem dentro da matriz original.\n",
        "\n",
        "Note que o número de imagens não pode ser alterado, tampouco as imagens em si; apenas o formato da representação de cada uma dessas imagens pode sofrer alteração.\n",
        "\n",
        "Então, atribua o objeto **target** de **digits_dataset** à variável **digits_target**."
      ]
    },
    {
      "cell_type": "code",
      "execution_count": 10,
      "metadata": {
        "id": "wn2HEHS-8gao"
      },
      "outputs": [],
      "source": [
        "# Preparação do dataset\n",
        "\n",
        "digits_img = load_digits().images.reshape(digits_img.shape[0], - 1)\n",
        "digits_target = digits_dataset.target"
      ]
    },
    {
      "cell_type": "markdown",
      "metadata": {
        "id": "nB07OeJN8gap"
      },
      "source": [
        "#### Divisão dos dados em grupos para treinamento e teste."
      ]
    },
    {
      "cell_type": "markdown",
      "metadata": {
        "id": "ijt3We4f8gaq"
      },
      "source": [
        "Importe e utilize a função **train_test_split** (do pacote **model_selection**, que percente à biblioteca **sklearn**) para dividir os dados de entrada e saída, **digits** e **digits_target**, respectivamente, separando-os em dados de treinamento e de testes para entrada e saída, ou seja, **x_train**, **x_test**, **y_train** e **y_test**.\n",
        "\n",
        "Separe 25% para testes utilizando o argumento *test_size* da própria função **train_test_split**."
      ]
    },
    {
      "cell_type": "code",
      "execution_count": 11,
      "metadata": {
        "id": "E9wo4kWa8gar"
      },
      "outputs": [],
      "source": [
        "from sklearn.model_selection import train_test_split as teste\n",
        "x_train, x_test, y_train, y_test = teste(digits_img, digits_target, test_size=0.25)"
      ]
    },
    {
      "cell_type": "markdown",
      "metadata": {
        "id": "MmYACua48gas"
      },
      "source": [
        "### Linear Discriminant Analysis (LDA)"
      ]
    },
    {
      "cell_type": "markdown",
      "metadata": {
        "id": "7GUPcvF18gat"
      },
      "source": [
        "#### Treinamento"
      ]
    },
    {
      "cell_type": "markdown",
      "metadata": {
        "id": "s_O9xfM98gau"
      },
      "source": [
        "Importe o classificador do LDA, que é uma função chamada **LinearDiscriminantAnalysis** do pacote **discriminant_analysis**, que faz parte da biblioteca **sklearn**. Então crie o classificador com o nome **LDA** atribundo a ele a função **LinearDiscriminantAnalysis** utilizando **solver='lsqr'**).\n",
        "\n",
        "Treine o classificador **LDA** por meio de sua própria função **fit()**. Os argumentos da função **fit()** são os dados de entrada e saída de treinamento, ou seja, **x_train** e **y_train**."
      ]
    },
    {
      "cell_type": "code",
      "source": [
        "from sklearn.discriminant_analysis import LinearDiscriminantAnalysis\n",
        "LDA = LinearDiscriminantAnalysis(solver='lsqr')"
      ],
      "metadata": {
        "id": "EkWvlQxh-04S"
      },
      "execution_count": 15,
      "outputs": []
    },
    {
      "cell_type": "code",
      "execution_count": 16,
      "metadata": {
        "id": "FCQvRNrr8gau"
      },
      "outputs": [],
      "source": [
        "# TREINAMENTO DO MODELO\n",
        "LDA = LDA.fit(x_train, y_train)"
      ]
    },
    {
      "cell_type": "markdown",
      "metadata": {
        "id": "RM14lV6M8gav"
      },
      "source": [
        "#### Classificação e Resultados"
      ]
    },
    {
      "cell_type": "markdown",
      "metadata": {
        "id": "D6TE9TmQ8gaw"
      },
      "source": [
        "Então, faça a classificação (também chamada de predição), utilizando a função **predict()** do próprio classificador **LDA**. O argumento da função é apenas a entrada de teste, ou seja, **x_test**. Atribua a saída dessa classificação à variável **y_pred_LDA**."
      ]
    },
    {
      "cell_type": "code",
      "execution_count": 17,
      "metadata": {
        "id": "C33cKSde8gax"
      },
      "outputs": [],
      "source": [
        "# ALGORITMO DE PREDIÇÃO DO MODELO TREINADO\n",
        "y_pred_LDA = LDA.predict(x_test)"
      ]
    },
    {
      "cell_type": "markdown",
      "metadata": {
        "id": "J9trU2Db8gax"
      },
      "source": [
        "Para analisar os resultados, precisamos utilizar algumas ferramentas e métricas. A biblioteca **sklearn** possui um grande conjunto de funções para essa finalidade em seu pacote **metrics**. Importe as funções **accuracy_score** e **confusion_matrix**, então imprima a acurácia do classificador lda e sua confusion matrix."
      ]
    },
    {
      "cell_type": "code",
      "source": [
        "# Acurácia do classificador\n",
        "from sklearn.metrics import accuracy_score\n",
        "\n",
        "# Matriz de confusão\n",
        "from sklearn.metrics import confusion_matrix"
      ],
      "metadata": {
        "id": "6jsoR0umAZ-1"
      },
      "execution_count": 18,
      "outputs": []
    },
    {
      "cell_type": "code",
      "source": [
        "precisao = accuracy_score(y_test,y_pred_LDA)\n",
        "print(precisao)"
      ],
      "metadata": {
        "colab": {
          "base_uri": "https://localhost:8080/"
        },
        "id": "ZfGziGpdAklP",
        "outputId": "fc4c3d8b-2d88-41e1-938a-edd87b690ec7"
      },
      "execution_count": 22,
      "outputs": [
        {
          "output_type": "stream",
          "name": "stdout",
          "text": [
            "0.9666666666666667\n"
          ]
        }
      ]
    },
    {
      "cell_type": "code",
      "execution_count": 42,
      "metadata": {
        "colab": {
          "base_uri": "https://localhost:8080/",
          "height": 273
        },
        "id": "pBYY-Qeh8gay",
        "outputId": "477196e8-0d79-41b1-9201-39b2ef984a58"
      },
      "outputs": [
        {
          "output_type": "display_data",
          "data": {
            "text/plain": [
              "<Figure size 800x600 with 2 Axes>"
            ],
            "image/png": "[encoded data removed]"
          },
          "metadata": {}
        }
      ],
      "source": [
        "precisao = confusion_matrix(y_test, y_pred_LDA)\n",
        "plotar(precisao)"
      ]
    },
    {
      "cell_type": "markdown",
      "metadata": {
        "id": "OFCxFVRN8gaz"
      },
      "source": [
        "### Support Vector Machine (SVM)"
      ]
    },
    {
      "cell_type": "markdown",
      "metadata": {
        "id": "uD41rhhS8gaz"
      },
      "source": [
        "#### Treinamento"
      ]
    },
    {
      "cell_type": "markdown",
      "metadata": {
        "id": "yehT2X3X8ga0"
      },
      "source": [
        "Importe a função **SVC**, pertencente ao pacote **SVM** da biblioteca **sklearn**, então crie o classificador chamado **SVM**, análogo ao que foi feito com o LDA anteriormente. Utilize os parâmetros **C=1.0**, **kernel='poly'** e **degree=3**.\n",
        "\n",
        "Então, treine o classificador **SVM** utilizando a função **fit** com os dados de treinamento, **x_train** e **y_train**, respectivamente."
      ]
    },
    {
      "cell_type": "code",
      "execution_count": 25,
      "metadata": {
        "id": "n16Ov-J98ga1"
      },
      "outputs": [],
      "source": [
        "from sklearn.svm import SVC\n",
        "SVM_class = SVC(C=1.0, kernel='poly', degree=3)"
      ]
    },
    {
      "cell_type": "code",
      "source": [
        "# TREINAMENTO DO MODELO\n",
        "SVM_class = SVM_class.fit(x_train, y_train)"
      ],
      "metadata": {
        "id": "WZzki7nGDV-d"
      },
      "execution_count": 27,
      "outputs": []
    },
    {
      "cell_type": "markdown",
      "metadata": {
        "id": "TlMShSYk8ga2"
      },
      "source": [
        "#### Classificação e Resultados"
      ]
    },
    {
      "cell_type": "markdown",
      "metadata": {
        "id": "yJgxeNUn8ga2"
      },
      "source": [
        "Faça a classificação dos dados de entrada para testes, **x_test**, utilizando a função **predict** do próprio **SVM** e armazene os resultados em **y_pred_SVM**.\n",
        "\n",
        "Na mesma célula, verifique a acurácia do classificador **SVM** por meio da função **accuracy_score** e mostre a matriz de confusão do classificador **SVM** utilizando a função **confusion_matrix**."
      ]
    },
    {
      "cell_type": "code",
      "execution_count": 28,
      "metadata": {
        "id": "Krk7fGQJ8ga3"
      },
      "outputs": [],
      "source": [
        "# ALGORITMO DE PREDIÇÃO DO MODELO TREINADO\n",
        "y_pred_SVM = SVM_class.predict(x_test)"
      ]
    },
    {
      "cell_type": "code",
      "source": [
        "# Acurácia do classificador\n",
        "from sklearn.metrics import accuracy_score\n",
        "\n",
        "# Matriz de confusão\n",
        "from sklearn.metrics import confusion_matrix"
      ],
      "metadata": {
        "id": "iD5PKkvzDsW4"
      },
      "execution_count": 31,
      "outputs": []
    },
    {
      "cell_type": "code",
      "source": [
        "precisao = accuracy_score(y_test, y_pred_SVM)\n",
        "print(precisao)"
      ],
      "metadata": {
        "colab": {
          "base_uri": "https://localhost:8080/"
        },
        "id": "q1Bn3B2HD2bw",
        "outputId": "69cbe7f3-23f5-4a72-b52a-a9b3917ed2fe"
      },
      "execution_count": 30,
      "outputs": [
        {
          "output_type": "stream",
          "name": "stdout",
          "text": [
            "0.9933333333333333\n"
          ]
        }
      ]
    },
    {
      "cell_type": "code",
      "source": [
        "precisao = confusion_matrix(y_test, y_pred_SVM)\n",
        "plotar(precisao)"
      ],
      "metadata": {
        "colab": {
          "base_uri": "https://localhost:8080/",
          "height": 273
        },
        "id": "VZfQLmWdEL4S",
        "outputId": "610d20aa-77a3-4b3c-ad89-0774d08a368e"
      },
      "execution_count": 37,
      "outputs": [
        {
          "output_type": "display_data",
          "data": {
            "text/plain": [
              "<Figure size 800x600 with 2 Axes>"
            ],
            "image/png": "[encoded data removed]"
          },
          "metadata": {}
        }
      ]
    },
    {
      "cell_type": "markdown",
      "metadata": {
        "id": "YMwf_Uh78ga4"
      },
      "source": [
        "### Artificial Neural Networks (ANN)"
      ]
    },
    {
      "cell_type": "markdown",
      "metadata": {
        "id": "VAumz0iy8ga5"
      },
      "source": [
        "#### Treinamento"
      ]
    },
    {
      "cell_type": "markdown",
      "metadata": {
        "id": "ntH5Ptm58ga6"
      },
      "source": [
        "Importe a função **MLPClassifier**, pertencente ao pacote **neural_network** da biblioteca **sklearn**, então crie o classificador **ANN** usando a função importada com os parâmetros **solver='lbfgs'** e **hidden_layer_sizes=(50)**.\n",
        "\n",
        "Depois, treine o classificador usando os dados de entrada e saída de treinamento."
      ]
    },
    {
      "cell_type": "code",
      "execution_count": 45,
      "metadata": {
        "id": "RzwGbwFU8ga7"
      },
      "outputs": [],
      "source": [
        "from sklearn.neural_network import MLPClassifier\n",
        "ANN = MLPClassifier(solver='lbfgs', hidden_layer_sizes=(50))"
      ]
    },
    {
      "cell_type": "markdown",
      "metadata": {
        "id": "6vH6CqD48ga8"
      },
      "source": [
        "#### Classificação e Resultados"
      ]
    },
    {
      "cell_type": "markdown",
      "metadata": {
        "id": "35zkIqtJ8ga9"
      },
      "source": [
        "Faça a predição com base nos dados de entrada de teste com o classificador **ANN**, atribundo as predições à variável **y_pred_ANN**. Então imprima a acurácia e a matriz de confusão dessa classificação."
      ]
    },
    {
      "cell_type": "code",
      "source": [
        "# TREINAMENTO DO MODELO\n",
        "ANN = ANN.fit(x_train, y_train)"
      ],
      "metadata": {
        "id": "m9CPZmuUIP6p"
      },
      "execution_count": 48,
      "outputs": []
    },
    {
      "cell_type": "code",
      "execution_count": 54,
      "metadata": {
        "id": "B03Bti318ga-"
      },
      "outputs": [],
      "source": [
        "# ALGORITMO DE PREDIÇÃO DO MODELO TREINADO\n",
        "y_pred_ANN = ANN.predict(x_test)"
      ]
    },
    {
      "cell_type": "code",
      "source": [
        "# Acurácia do classificador\n",
        "from sklearn.metrics import accuracy_score\n",
        "\n",
        "# Matriz de confusão\n",
        "from sklearn.metrics import confusion_matrix"
      ],
      "metadata": {
        "id": "HxUPwTVMIkA-"
      },
      "execution_count": 52,
      "outputs": []
    },
    {
      "cell_type": "code",
      "source": [
        "precisao = accuracy_score(y_test, y_pred_ANN)\n",
        "print(precisao)"
      ],
      "metadata": {
        "colab": {
          "base_uri": "https://localhost:8080/"
        },
        "id": "su1bdQT9IkRq",
        "outputId": "97aa84a9-fa0a-432e-f393-e3439bc7fe30"
      },
      "execution_count": 56,
      "outputs": [
        {
          "output_type": "stream",
          "name": "stdout",
          "text": [
            "0.9777777777777777\n"
          ]
        }
      ]
    },
    {
      "cell_type": "code",
      "source": [
        "precisao = confusion_matrix(y_test, y_pred_ANN)\n",
        "plotar(precisao)"
      ],
      "metadata": {
        "colab": {
          "base_uri": "https://localhost:8080/",
          "height": 273
        },
        "id": "fVqFkn-1IkfO",
        "outputId": "c995ce66-3a82-40ab-fa89-0ff603312aa0"
      },
      "execution_count": 57,
      "outputs": [
        {
          "output_type": "display_data",
          "data": {
            "text/plain": [
              "<Figure size 800x600 with 2 Axes>"
            ],
            "image/png": "[encoded data removed]"
          },
          "metadata": {}
        }
      ]
    },
    {
      "cell_type": "markdown",
      "metadata": {
        "id": "OxPEfDo58ga_"
      },
      "source": [
        "#### Análise para diferentes quantidades de neurônios"
      ]
    },
    {
      "cell_type": "markdown",
      "metadata": {
        "id": "rb9WCCM08gbc"
      },
      "source": [
        "Faça, iterativamente, com que seja treinada e testada uma rede neural de uma camada, utilizando uma quantidade crescente de neurônios, indo de 1 a 50. Armazene o valor da acurácia para cada iteração, então imprima as seguintes estatísticas sobre a acurácia: mínima, máxima, média, mediana, moda, variância e desvio padrão."
      ]
    },
    {
      "cell_type": "code",
      "execution_count": 60,
      "metadata": {
        "colab": {
          "base_uri": "https://localhost:8080/"
        },
        "id": "Ta1KDj2g8gbd",
        "outputId": "d2baa6b4-50ef-4812-afed-14acf83e1def"
      },
      "outputs": [
        {
          "output_type": "stream",
          "name": "stdout",
          "text": [
            "Mínima: 0.2733333333333333\n",
            "Máxima: 0.9866666666666667\n",
            "Média: 0.9416\n",
            "Mediana: 0.9677777777777778\n",
            "Moda: 0.9644444444444444\n",
            "Variância: 0.01222595918367347\n",
            "Desvio Padrão: 0.11057105943090836\n"
          ]
        }
      ],
      "source": [
        "from sklearn.neural_network import MLPClassifier\n",
        "from sklearn.metrics import accuracy_score\n",
        "from statistics import mean, median, mode, variance, stdev\n",
        "\n",
        "neurons_range = range(1, 51)\n",
        "accuracies = []\n",
        "\n",
        "for n in neurons_range:\n",
        "    # Criar e treinar o modelo\n",
        "    model = MLPClassifier(hidden_layer_sizes=(n), max_iter=1000)\n",
        "    model.fit(x_train, y_train)\n",
        "\n",
        "    # Fazer previsões no conjunto de teste\n",
        "    y_pred = model.predict(x_test)\n",
        "\n",
        "    # Calcular e armazenar a acurácia\n",
        "    accuracy = accuracy_score(y_test, y_pred)\n",
        "    accuracies.append(accuracy)\n",
        "\n",
        "# Imprimir estatísticas sobre a acurácia\n",
        "print(f\"Mínima: {min(accuracies)}\")\n",
        "print(f\"Máxima: {max(accuracies)}\")\n",
        "print(f\"Média: {mean(accuracies)}\")\n",
        "print(f\"Mediana: {median(accuracies)}\")\n",
        "print(f\"Moda: {mode(accuracies)}\")\n",
        "print(f\"Variância: {variance(accuracies)}\")\n",
        "print(f\"Desvio Padrão: {stdev(accuracies)}\")"
      ]
    },
    {
      "cell_type": "markdown",
      "metadata": {
        "id": "biXS93_68gbd"
      },
      "source": [
        "Utilizando subplots, gere o gráfico da acurácia do classificador para cada quantidade de neurônios na camada da rede neural e o gráfico do erro, considerando como o erro o quadrado da diferença entre as acurácias das últimas duas iterações."
      ]
    },
    {
      "cell_type": "code",
      "execution_count": null,
      "metadata": {
        "id": "eSQkHeMo8gbe"
      },
      "outputs": [],
      "source": [
        "import matplotlib.pyplot as plt\n",
        "\n",
        "%matplotlib inline\n",
        "%config InlineBackend.figure_format = 'svg'\n",
        "\n",
        "params = {'figure.figsize': [10, 6],\n",
        "          'axes.labelsize': 16,\n",
        "          'axes.titlesize':18,\n",
        "          'font.size': 16,\n",
        "          'legend.fontsize': 12,\n",
        "          'xtick.labelsize': 12,\n",
        "          'ytick.labelsize': 12\n",
        "         }\n",
        "\n",
        "plt.rcParams.update(params)\n",
        "\n",
        "### INSIRA SEU CÓDIGO AQUI ###"
      ]
    },
    {
      "cell_type": "markdown",
      "metadata": {
        "id": "K0ORuC1i8gbf"
      },
      "source": [
        "## Referências"
      ]
    },
    {
      "cell_type": "markdown",
      "metadata": {
        "id": "OXOk_S4i8gbg"
      },
      "source": [
        "[Scikit-Learn - Datasets](http://scikit-learn.org/stable/datasets/index.html)\n",
        "\n",
        "[Matplotlib - Pyplot](https://matplotlib.org/api/pyplot_summary.html)\n",
        "\n",
        "[Numpy](https://docs.scipy.org/doc/numpy/reference/)\n",
        "\n",
        "[Scikit-Learn - Train, Test and Split](http://scikit-learn.org/stable/modules/generated/sklearn.model_selection.train_test_split.html)\n",
        "\n",
        "[Scikit-Learn - LinearDiscriminantAnalysis](http://scikit-learn.org/stable/modules/generated/sklearn.discriminant_analysis.LinearDiscriminantAnalysis.html)\n",
        "\n",
        "[Scikit-Learn - SVC](http://scikit-learn.org/stable/modules/generated/sklearn.svm.SVC.html#sklearn.svm.SVC)\n",
        "\n",
        "[Scikit-Learn - MLPClassifier](http://scikit-learn.org/stable/modules/generated/sklearn.neural_network.MLPClassifier.html#sklearn.neural_network.MLPClassifier)\n",
        "\n",
        "[Scikit-Learn - Accuracy Score](http://scikit-learn.org/stable/modules/generated/sklearn.metrics.accuracy_score.html)\n",
        "\n",
        "[Scikit-Learn - Confusion Matrix](http://scikit-learn.org/stable/modules/generated/sklearn.metrics.confusion_matrix.html)"
      ]
    },
    {
      "cell_type": "code",
      "execution_count": null,
      "metadata": {
        "id": "DEkGUK2t8gbg"
      },
      "outputs": [],
      "source": []
    }
  ],
  "metadata": {
    "kernelspec": {
      "display_name": "Python 3",
      "language": "python",
      "name": "python3"
    },
    "language_info": {
      "codemirror_mode": {
        "name": "ipython",
        "version": 3
      },
      "file_extension": ".py",
      "mimetype": "text/x-python",
      "name": "python",
      "nbconvert_exporter": "python",
      "pygments_lexer": "ipython3",
      "version": "3.7.6"
    },
    "colab": {
      "provenance": [],
      "include_colab_link": true
    }
  },
  "nbformat": 4,
  "nbformat_minor": 0
}